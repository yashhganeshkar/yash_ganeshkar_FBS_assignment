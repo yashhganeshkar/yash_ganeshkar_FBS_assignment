{
 "cells": [
  {
   "cell_type": "code",
   "execution_count": 1,
   "id": "c60fb706-9f12-485f-83d5-2c12a1dddc08",
   "metadata": {},
   "outputs": [],
   "source": [
    "import numpy as np"
   ]
  },
  {
   "cell_type": "markdown",
   "id": "85f1f831-97a7-4a2a-8c5f-52335cd39e62",
   "metadata": {},
   "source": [
    "## 1. Write code to create a 4x3 matrix with values ranging from 2 to 13."
   ]
  },
  {
   "cell_type": "code",
   "execution_count": 4,
   "id": "a00f2727-299b-4582-b575-76881e842ffe",
   "metadata": {},
   "outputs": [
    {
     "data": {
      "text/plain": [
       "array([[ 2,  3,  4],\n",
       "       [ 5,  6,  7],\n",
       "       [ 8,  9, 10],\n",
       "       [11, 12, 13]])"
      ]
     },
     "execution_count": 4,
     "metadata": {},
     "output_type": "execute_result"
    }
   ],
   "source": [
    "matrix = np.arange(2,14).reshape(4,3)\n",
    "matrix"
   ]
  },
  {
   "cell_type": "markdown",
   "id": "2885183e-b163-4045-bcfd-56278a1d5fbd",
   "metadata": {},
   "source": [
    "## 2. Write code to replace the odd numbers by -1 in the array created by using random.randint( 1 , 50,20)"
   ]
  },
  {
   "cell_type": "code",
   "execution_count": 5,
   "id": "c3b2a4d1-282d-47a4-bb29-4b6c0624cb39",
   "metadata": {},
   "outputs": [
    {
     "data": {
      "text/plain": [
       "array([22, 13, 48, 19, 42, 37, 13, 34, 45, 31,  5, 45, 12, 37,  6, 34,  8,\n",
       "        1, 17, 47], dtype=int32)"
      ]
     },
     "execution_count": 5,
     "metadata": {},
     "output_type": "execute_result"
    }
   ],
   "source": [
    "arr = np.random.randint(1,50,20)\n",
    "arr"
   ]
  },
  {
   "cell_type": "code",
   "execution_count": 6,
   "id": "b33ce698-a86e-44c8-a99b-06901d5d2f44",
   "metadata": {},
   "outputs": [],
   "source": [
    "arr[arr%2!=0] = -1"
   ]
  },
  {
   "cell_type": "code",
   "execution_count": 7,
   "id": "32da73a4-b9bb-43e1-8d7e-d75c4bdf4866",
   "metadata": {},
   "outputs": [
    {
     "data": {
      "text/plain": [
       "array([22, -1, 48, -1, 42, -1, -1, 34, -1, -1, -1, -1, 12, -1,  6, 34,  8,\n",
       "       -1, -1, -1], dtype=int32)"
      ]
     },
     "execution_count": 7,
     "metadata": {},
     "output_type": "execute_result"
    }
   ],
   "source": [
    "arr"
   ]
  },
  {
   "cell_type": "markdown",
   "id": "cec28f21-214c-43f2-afad-0b752ee18aef",
   "metadata": {},
   "source": [
    "## 3. Perform the following operations on an array of mobile phones prices 6999, 7500, 11999, 27899, 14999, 9999."
   ]
  },
  {
   "cell_type": "code",
   "execution_count": 44,
   "id": "5efeea9d-7bba-49cd-85fb-7ed1af5615a4",
   "metadata": {},
   "outputs": [
    {
     "data": {
      "text/plain": [
       "array([ 6999,  7500, 11999, 27899, 14999,  9999])"
      ]
     },
     "execution_count": 44,
     "metadata": {},
     "output_type": "execute_result"
    }
   ],
   "source": [
    "# a. Create a 1d-array of mobile phones prices\n",
    "\n",
    "prices = np.array([6999,7500,11999,27899,14999,9999])\n",
    "prices"
   ]
  },
  {
   "cell_type": "code",
   "execution_count": 45,
   "id": "d90017b7-6f8c-43dc-bec5-33547a6e8822",
   "metadata": {},
   "outputs": [
    {
     "data": {
      "text/plain": [
       "dtype('float64')"
      ]
     },
     "execution_count": 45,
     "metadata": {},
     "output_type": "execute_result"
    }
   ],
   "source": [
    "# b. Convert this array to float type\n",
    "\n",
    "prices = prices.astype(float)\n",
    "prices.dtype"
   ]
  },
  {
   "cell_type": "code",
   "execution_count": 46,
   "id": "0b372d28-1bae-4571-8107-7c3c1137ddd6",
   "metadata": {},
   "outputs": [],
   "source": [
    "# c. Append a new mobile having price of 13999 Rs. to this array\n",
    "\n",
    "prices = np.append(prices,13999)"
   ]
  },
  {
   "cell_type": "code",
   "execution_count": 47,
   "id": "f36fa03c-1d1f-4885-8ad5-2a1d7ac34804",
   "metadata": {},
   "outputs": [
    {
     "data": {
      "text/plain": [
       "array([ 6999.,  7500., 11999., 27899., 14999.,  9999., 13999.])"
      ]
     },
     "execution_count": 47,
     "metadata": {},
     "output_type": "execute_result"
    }
   ],
   "source": [
    "prices"
   ]
  },
  {
   "cell_type": "code",
   "execution_count": 48,
   "id": "6c117655-4481-45fe-bc16-92ff7588eedd",
   "metadata": {},
   "outputs": [
    {
     "data": {
      "text/plain": [
       "array([13999.,  9999., 14999., 27899., 11999.,  7500.,  6999.])"
      ]
     },
     "execution_count": 48,
     "metadata": {},
     "output_type": "execute_result"
    }
   ],
   "source": [
    "# d. Reverse this array of mobile phones prices\n",
    "np.flip(prices)"
   ]
  },
  {
   "cell_type": "code",
   "execution_count": 49,
   "id": "43916860-fdc0-4fb1-b29a-06b8fa94ae9e",
   "metadata": {},
   "outputs": [
    {
     "data": {
      "text/plain": [
       "array([ 8258.82,  8850.  , 14158.82, 32920.82, 17698.82, 11798.82,\n",
       "       16518.82])"
      ]
     },
     "execution_count": 49,
     "metadata": {},
     "output_type": "execute_result"
    }
   ],
   "source": [
    "# e. Apply GST of 18% on mobile phones prices and update this array.\n",
    "\n",
    "prices = prices * 1.18\n",
    "prices"
   ]
  },
  {
   "cell_type": "code",
   "execution_count": 52,
   "id": "873f79d9-848e-468f-a9c9-347858a8cbe7",
   "metadata": {},
   "outputs": [
    {
     "data": {
      "text/plain": [
       "array([ 8258.82,  8850.  , 11798.82, 14158.82, 16518.82, 17698.82,\n",
       "       32920.82])"
      ]
     },
     "execution_count": 52,
     "metadata": {},
     "output_type": "execute_result"
    }
   ],
   "source": [
    "# f. Sort the array in descending order of price\n",
    "\n",
    "np.sort(prices)"
   ]
  },
  {
   "cell_type": "code",
   "execution_count": 53,
   "id": "961a4224-fd00-4d7d-af57-b5ea99529e21",
   "metadata": {},
   "outputs": [
    {
     "data": {
      "text/plain": [
       "np.float64(15743.560000000001)"
      ]
     },
     "execution_count": 53,
     "metadata": {},
     "output_type": "execute_result"
    }
   ],
   "source": [
    "# g. What is the average mobile phone price\n",
    "prices.mean()"
   ]
  },
  {
   "cell_type": "code",
   "execution_count": 56,
   "id": "9c9877ec-c019-4b76-9a51-7457b3d165b0",
   "metadata": {},
   "outputs": [
    {
     "data": {
      "text/plain": [
       "np.float64(24662.0)"
      ]
     },
     "execution_count": 56,
     "metadata": {},
     "output_type": "execute_result"
    }
   ],
   "source": [
    "# h. What is the difference b/w maximum and minimum price\n",
    "\n",
    "diff = prices.max() - prices.min()\n",
    "diff"
   ]
  },
  {
   "cell_type": "markdown",
   "id": "36386084-4755-46e5-b472-6fc5dcce0926",
   "metadata": {},
   "source": [
    "## 4. Find out the indices of non zero element in given array [1,2,0,0,4,0]"
   ]
  },
  {
   "cell_type": "code",
   "execution_count": 61,
   "id": "2075cea5-0e36-4ff5-b29a-75e44c11fd1b",
   "metadata": {},
   "outputs": [
    {
     "data": {
      "text/plain": [
       "array([1, 2, 0, 0, 4, 0])"
      ]
     },
     "execution_count": 61,
     "metadata": {},
     "output_type": "execute_result"
    }
   ],
   "source": [
    "arr = np.array([1,2,0,0,4,0])\n",
    "arr"
   ]
  },
  {
   "cell_type": "code",
   "execution_count": 60,
   "id": "36091547-92c9-4ac8-8ad4-ffdb8349cf90",
   "metadata": {},
   "outputs": [
    {
     "data": {
      "text/plain": [
       "array([1, 2, 4])"
      ]
     },
     "execution_count": 60,
     "metadata": {},
     "output_type": "execute_result"
    }
   ],
   "source": [
    "indices = np.argwhere(arr != 0)"
   ]
  },
  {
   "cell_type": "code",
   "execution_count": null,
   "id": "af6e46d6-46e4-4519-884f-af72a9e4a770",
   "metadata": {},
   "outputs": [],
   "source": []
  }
 ],
 "metadata": {
  "kernelspec": {
   "display_name": "Python 3 (ipykernel)",
   "language": "python",
   "name": "python3"
  },
  "language_info": {
   "codemirror_mode": {
    "name": "ipython",
    "version": 3
   },
   "file_extension": ".py",
   "mimetype": "text/x-python",
   "name": "python",
   "nbconvert_exporter": "python",
   "pygments_lexer": "ipython3",
   "version": "3.13.8"
  }
 },
 "nbformat": 4,
 "nbformat_minor": 5
}
