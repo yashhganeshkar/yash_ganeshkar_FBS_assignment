{
 "cells": [
  {
   "cell_type": "markdown",
   "id": "8e3a6d57-7945-4b9b-80f9-6af2529bcc50",
   "metadata": {},
   "source": [
    "import numpy as np"
   ]
  },
  {
   "cell_type": "markdown",
   "id": "e03640ef-3899-40cf-acf1-5fc6099963e5",
   "metadata": {},
   "source": [
    "## 1. Create a NumPy array containing integers from 0 to 9."
   ]
  },
  {
   "cell_type": "code",
   "execution_count": 2,
   "id": "1ce745ad-ebc4-4268-9de2-171569fc655a",
   "metadata": {},
   "outputs": [
    {
     "data": {
      "text/plain": [
       "array([0, 1, 2, 3, 4, 5, 6, 7, 8, 9])"
      ]
     },
     "execution_count": 2,
     "metadata": {},
     "output_type": "execute_result"
    }
   ],
   "source": [
    "arr = np.arange(0,10)\n",
    "arr"
   ]
  },
  {
   "cell_type": "markdown",
   "id": "61d7fc8c-748d-4f32-9e0e-42b055b210e0",
   "metadata": {},
   "source": [
    "## 2. Create a NumPy array from a given Python list [10, 20, 30, 40, 50]."
   ]
  },
  {
   "cell_type": "code",
   "execution_count": 3,
   "id": "7686aac8-5a76-460c-b831-8fcc3acc2a3b",
   "metadata": {},
   "outputs": [
    {
     "data": {
      "text/plain": [
       "array([10, 20, 30, 40, 50])"
      ]
     },
     "execution_count": 3,
     "metadata": {},
     "output_type": "execute_result"
    }
   ],
   "source": [
    "list1 = [10, 20, 30, 40, 50]\n",
    "arr = np.array(list1)\n",
    "arr"
   ]
  },
  {
   "cell_type": "markdown",
   "id": "4b3c2c73-dcab-4307-b32c-f02137f63054",
   "metadata": {},
   "source": [
    "## 3. Create a 2D array (3x3) with values ranging from 0 to 8."
   ]
  },
  {
   "cell_type": "code",
   "execution_count": 11,
   "id": "503df748-7a37-499e-8183-1e7e84aefee5",
   "metadata": {},
   "outputs": [
    {
     "data": {
      "text/plain": [
       "array([[0, 1, 2],\n",
       "       [3, 4, 5],\n",
       "       [6, 7, 8]])"
      ]
     },
     "execution_count": 11,
     "metadata": {},
     "output_type": "execute_result"
    }
   ],
   "source": [
    "arr = np.arange(0,9)\n",
    "arr = arr.reshape(3,3)\n",
    "arr"
   ]
  },
  {
   "cell_type": "markdown",
   "id": "c3dbc664-7a9d-4a27-aa86-c87e85353d0f",
   "metadata": {},
   "source": [
    "## 4. Given a 2D array, find its shape and size. Create a 5x4 array with random integers between 1 and 100, and print the shape and size."
   ]
  },
  {
   "cell_type": "code",
   "execution_count": 12,
   "id": "a374c365-b33f-433a-b321-40830a9fe83a",
   "metadata": {},
   "outputs": [
    {
     "data": {
      "text/plain": [
       "(3, 3)"
      ]
     },
     "execution_count": 12,
     "metadata": {},
     "output_type": "execute_result"
    }
   ],
   "source": [
    "arr.shape"
   ]
  },
  {
   "cell_type": "code",
   "execution_count": 13,
   "id": "ccc28925-eed9-4918-96de-5b0514eb05b0",
   "metadata": {},
   "outputs": [
    {
     "data": {
      "text/plain": [
       "array([[28, 66, 61,  7],\n",
       "       [51, 83, 85,  6],\n",
       "       [63, 19, 12, 69],\n",
       "       [44, 33, 35, 39],\n",
       "       [74, 37, 11, 81]], dtype=int32)"
      ]
     },
     "execution_count": 13,
     "metadata": {},
     "output_type": "execute_result"
    }
   ],
   "source": [
    "array = np.random.randint(1,100,20).reshape(5,4)\n",
    "array"
   ]
  },
  {
   "cell_type": "markdown",
   "id": "e5a47166-0b72-43a1-aa0b-f4013210bef3",
   "metadata": {},
   "source": [
    "## 5. Create a 3x3 array of integers and access:"
   ]
  },
  {
   "cell_type": "code",
   "execution_count": 14,
   "id": "2aa0edfe-ec39-43f3-9e3e-3f74b9ab4b22",
   "metadata": {},
   "outputs": [
    {
     "data": {
      "text/plain": [
       "array([[1, 2, 3],\n",
       "       [4, 5, 6],\n",
       "       [7, 8, 9]])"
      ]
     },
     "execution_count": 14,
     "metadata": {},
     "output_type": "execute_result"
    }
   ],
   "source": [
    "matrix = np.arange(1,10).reshape(3,3)\n",
    "matrix"
   ]
  },
  {
   "cell_type": "code",
   "execution_count": 16,
   "id": "1c94e6f6-dddc-4adc-b9ee-df0d187f1356",
   "metadata": {},
   "outputs": [
    {
     "data": {
      "text/plain": [
       "np.int64(2)"
      ]
     },
     "execution_count": 16,
     "metadata": {},
     "output_type": "execute_result"
    }
   ],
   "source": [
    "# a. The second element of the first row.\n",
    "\n",
    "matrix[0,1]"
   ]
  },
  {
   "cell_type": "code",
   "execution_count": 17,
   "id": "e2594c26-b29a-459c-a5fc-7761fc0f34be",
   "metadata": {},
   "outputs": [
    {
     "data": {
      "text/plain": [
       "np.int64(6)"
      ]
     },
     "execution_count": 17,
     "metadata": {},
     "output_type": "execute_result"
    }
   ],
   "source": [
    "# b. The third column of the 2nd row.\n",
    "\n",
    "matrix[1,2]"
   ]
  },
  {
   "cell_type": "code",
   "execution_count": 22,
   "id": "6fe766c8-871e-4224-9b68-57d987954d77",
   "metadata": {},
   "outputs": [
    {
     "data": {
      "text/plain": [
       "array([1, 2, 3, 4, 5, 6, 4, 5, 6, 7, 8, 9])"
      ]
     },
     "execution_count": 22,
     "metadata": {},
     "output_type": "execute_result"
    }
   ],
   "source": [
    "# c. A subarray with the first two rows and last two columns.\n",
    "\n",
    "firstTwoRows = matrix[0:2,]\n",
    "lastTwoRows = matrix[1:3,]\n",
    "\n",
    "subarray = np.append(firstTwoRows,lastTwoRows)\n",
    "subarray"
   ]
  },
  {
   "cell_type": "markdown",
   "id": "fbabb77d-9ae1-43e3-b25c-0f9639990b8d",
   "metadata": {},
   "source": [
    "# 6. Create a 1D array of 12 elements. Reshape it into a 3x4 2D array."
   ]
  },
  {
   "cell_type": "code",
   "execution_count": 23,
   "id": "5343f18d-2378-4bc8-a2c5-3368ad020c76",
   "metadata": {},
   "outputs": [
    {
     "data": {
      "text/plain": [
       "array([[ 1,  2,  3,  4],\n",
       "       [ 5,  6,  7,  8],\n",
       "       [ 9, 10, 11, 12]])"
      ]
     },
     "execution_count": 23,
     "metadata": {},
     "output_type": "execute_result"
    }
   ],
   "source": [
    "array = np.arange(1,13).reshape(3,4)\n",
    "array"
   ]
  },
  {
   "cell_type": "markdown",
   "id": "df44e4dd-3006-4d20-bc96-056a734183fb",
   "metadata": {},
   "source": [
    "# 7. Reshape a 3x3 matrix into a 1D array."
   ]
  },
  {
   "cell_type": "code",
   "execution_count": 26,
   "id": "5e6b8d5a-9f8a-4b70-ba04-bc015174e021",
   "metadata": {},
   "outputs": [
    {
     "data": {
      "text/plain": [
       "array([10,  6,  3,  7, 14, 19, 19,  1, 12], dtype=int32)"
      ]
     },
     "execution_count": 26,
     "metadata": {},
     "output_type": "execute_result"
    }
   ],
   "source": [
    "array = np.random.randint(1,20,9).reshape(3,3)\n",
    "array.reshape(9,)"
   ]
  },
  {
   "cell_type": "markdown",
   "id": "8da62ebd-a562-4b15-bf8a-85c031430387",
   "metadata": {},
   "source": [
    "# 8. Create two arrays of shape (2, 3): arr1 and arr2. Perform element-wise addition, subtraction, multiplication, and division on them."
   ]
  },
  {
   "cell_type": "code",
   "execution_count": 28,
   "id": "0bc333b9-1ec5-479a-b05a-48649a08263f",
   "metadata": {},
   "outputs": [],
   "source": [
    "arr1 = np.arange(1,7).reshape(2,3)\n",
    "arr2 = np.arange(11,17).reshape(2,3)"
   ]
  },
  {
   "cell_type": "code",
   "execution_count": 29,
   "id": "f526a3a0-9127-4baf-99c9-015ec8f9b27b",
   "metadata": {},
   "outputs": [
    {
     "data": {
      "text/plain": [
       "array([[1, 2, 3],\n",
       "       [4, 5, 6]])"
      ]
     },
     "execution_count": 29,
     "metadata": {},
     "output_type": "execute_result"
    }
   ],
   "source": [
    "arr1"
   ]
  },
  {
   "cell_type": "code",
   "execution_count": 30,
   "id": "2d12f7e8-1754-4660-aa69-702b7ae474ca",
   "metadata": {},
   "outputs": [
    {
     "data": {
      "text/plain": [
       "array([[11, 12, 13],\n",
       "       [14, 15, 16]])"
      ]
     },
     "execution_count": 30,
     "metadata": {},
     "output_type": "execute_result"
    }
   ],
   "source": [
    "arr2"
   ]
  },
  {
   "cell_type": "code",
   "execution_count": 32,
   "id": "35bbeaa7-509c-49f8-b8dd-315799c135e4",
   "metadata": {},
   "outputs": [
    {
     "data": {
      "text/plain": [
       "array([[12, 14, 16],\n",
       "       [18, 20, 22]])"
      ]
     },
     "execution_count": 32,
     "metadata": {},
     "output_type": "execute_result"
    }
   ],
   "source": [
    "# Addition\n",
    "\n",
    "add = arr1 + arr2\n",
    "add"
   ]
  },
  {
   "cell_type": "code",
   "execution_count": 33,
   "id": "7ecc1feb-0ac2-4ffc-9fbd-e3f44e72777d",
   "metadata": {},
   "outputs": [
    {
     "data": {
      "text/plain": [
       "array([[-10, -10, -10],\n",
       "       [-10, -10, -10]])"
      ]
     },
     "execution_count": 33,
     "metadata": {},
     "output_type": "execute_result"
    }
   ],
   "source": [
    "# Substraction\n",
    "\n",
    "sub = arr1 - arr2\n",
    "sub"
   ]
  },
  {
   "cell_type": "code",
   "execution_count": 34,
   "id": "15d584e2-f1fc-48c1-9f8c-a7b160f5b8ce",
   "metadata": {},
   "outputs": [
    {
     "data": {
      "text/plain": [
       "array([[11, 24, 39],\n",
       "       [56, 75, 96]])"
      ]
     },
     "execution_count": 34,
     "metadata": {},
     "output_type": "execute_result"
    }
   ],
   "source": [
    "# Multiplication\n",
    "\n",
    "mul = arr1 * arr2\n",
    "mul"
   ]
  },
  {
   "cell_type": "code",
   "execution_count": 35,
   "id": "e41567b1-737e-4974-8e53-d73fc511d2b4",
   "metadata": {},
   "outputs": [
    {
     "data": {
      "text/plain": [
       "array([[11,  6,  4],\n",
       "       [ 3,  3,  2]])"
      ]
     },
     "execution_count": 35,
     "metadata": {},
     "output_type": "execute_result"
    }
   ],
   "source": [
    "# Division\n",
    "\n",
    "div = arr2 // arr1\n",
    "div"
   ]
  },
  {
   "cell_type": "markdown",
   "id": "3b551d06-3fe6-4204-96bd-d201dde3c511",
   "metadata": {},
   "source": [
    "# 9. Use NumPy's built-in functions to compute the sum, mean, and standard deviation of a given array."
   ]
  },
  {
   "cell_type": "code",
   "execution_count": 36,
   "id": "6821cc97-62bb-4542-8360-7b2d7c9b3a9f",
   "metadata": {},
   "outputs": [
    {
     "data": {
      "text/plain": [
       "array([1, 2, 3, 4, 5, 6, 7, 8, 9])"
      ]
     },
     "execution_count": 36,
     "metadata": {},
     "output_type": "execute_result"
    }
   ],
   "source": [
    "arr = np.arange(1,10)\n",
    "arr"
   ]
  },
  {
   "cell_type": "code",
   "execution_count": 37,
   "id": "a391d104-5b36-47ef-b972-a939ed147494",
   "metadata": {},
   "outputs": [
    {
     "data": {
      "text/plain": [
       "np.int64(45)"
      ]
     },
     "execution_count": 37,
     "metadata": {},
     "output_type": "execute_result"
    }
   ],
   "source": [
    "# Sum\n",
    "\n",
    "add = arr.sum()\n",
    "add"
   ]
  },
  {
   "cell_type": "code",
   "execution_count": 38,
   "id": "2b350db9-0258-4f82-85d0-e411f1bab0a0",
   "metadata": {},
   "outputs": [
    {
     "data": {
      "text/plain": [
       "np.float64(5.0)"
      ]
     },
     "execution_count": 38,
     "metadata": {},
     "output_type": "execute_result"
    }
   ],
   "source": [
    "# Mean\n",
    "\n",
    "arrMean = arr.mean()\n",
    "arrMean"
   ]
  },
  {
   "cell_type": "code",
   "execution_count": 40,
   "id": "2e8be79e-8576-479f-9270-3b379e76ea89",
   "metadata": {},
   "outputs": [
    {
     "data": {
      "text/plain": [
       "array([[1, 2, 3],\n",
       "       [4, 5, 6],\n",
       "       [7, 8, 9]])"
      ]
     },
     "execution_count": 40,
     "metadata": {},
     "output_type": "execute_result"
    }
   ],
   "source": [
    "# Standard Deviation\n",
    "mArr = arr.reshape(3,3)\n",
    "mArr"
   ]
  },
  {
   "cell_type": "code",
   "execution_count": 41,
   "id": "17f6b240-dd50-422a-9d1b-54ae87a8d990",
   "metadata": {},
   "outputs": [
    {
     "data": {
      "text/plain": [
       "array([0.81649658, 0.81649658, 0.81649658])"
      ]
     },
     "execution_count": 41,
     "metadata": {},
     "output_type": "execute_result"
    }
   ],
   "source": [
    "colSTD = np.std(mArr, axis=1)\n",
    "colSTD"
   ]
  },
  {
   "cell_type": "code",
   "execution_count": 42,
   "id": "2e816e35-a908-406a-8814-eb66ea46dc2e",
   "metadata": {},
   "outputs": [
    {
     "data": {
      "text/plain": [
       "array([2.44948974, 2.44948974, 2.44948974])"
      ]
     },
     "execution_count": 42,
     "metadata": {},
     "output_type": "execute_result"
    }
   ],
   "source": [
    "rowSTD = np.std(mArr, axis=0)\n",
    "rowSTD"
   ]
  },
  {
   "cell_type": "markdown",
   "id": "4fab1302-6668-4308-bd54-baf79e526ba6",
   "metadata": {},
   "source": [
    "# 10. Create a 2x2 matrix A and a 2x2 matrix B. Perform matrix multiplication using np.dot() or the @ operator."
   ]
  },
  {
   "cell_type": "markdown",
   "id": "76d953ae-54d2-4a6e-a7ed-a9cf9f8811ae",
   "metadata": {},
   "source": [
    "A = np.arange(1,5).reshape(2,2)\n",
    "B = np.arange(6,10).reshape(2,2)"
   ]
  },
  {
   "cell_type": "code",
   "execution_count": 44,
   "id": "45034a4d-9bd5-4e24-87c0-0617f4b456ac",
   "metadata": {},
   "outputs": [
    {
     "data": {
      "text/plain": [
       "array([[1, 2],\n",
       "       [3, 4]])"
      ]
     },
     "execution_count": 44,
     "metadata": {},
     "output_type": "execute_result"
    }
   ],
   "source": [
    "A"
   ]
  },
  {
   "cell_type": "code",
   "execution_count": 45,
   "id": "57f710e5-d4ad-4e2d-adfb-66a0db7a7a66",
   "metadata": {},
   "outputs": [
    {
     "data": {
      "text/plain": [
       "array([[6, 7],\n",
       "       [8, 9]])"
      ]
     },
     "execution_count": 45,
     "metadata": {},
     "output_type": "execute_result"
    }
   ],
   "source": [
    "B"
   ]
  },
  {
   "cell_type": "code",
   "execution_count": 46,
   "id": "b2577e3e-5bda-4bbe-91f8-0f9531f4c79a",
   "metadata": {},
   "outputs": [
    {
     "data": {
      "text/plain": [
       "array([[22, 25],\n",
       "       [50, 57]])"
      ]
     },
     "execution_count": 46,
     "metadata": {},
     "output_type": "execute_result"
    }
   ],
   "source": [
    "# Multiplication using np.dot()\n",
    "\n",
    "mul = np.dot(A,B)\n",
    "mul"
   ]
  },
  {
   "cell_type": "code",
   "execution_count": 47,
   "id": "312c7a6f-9e52-41db-be80-e383c457e7a4",
   "metadata": {},
   "outputs": [
    {
     "data": {
      "text/plain": [
       "array([[22, 25],\n",
       "       [50, 57]])"
      ]
     },
     "execution_count": 47,
     "metadata": {},
     "output_type": "execute_result"
    }
   ],
   "source": [
    "# Multiplication using @ operator\n",
    "\n",
    "OpMul = A @ B\n",
    "OpMul"
   ]
  },
  {
   "cell_type": "markdown",
   "id": "b14f61aa-e277-4ec1-a284-3b866651a31f",
   "metadata": {},
   "source": [
    "## 11. Find the transpose of matrix A and matrix B."
   ]
  },
  {
   "cell_type": "code",
   "execution_count": 48,
   "id": "897036c5-f61f-48fa-bc30-fd13531484f0",
   "metadata": {},
   "outputs": [
    {
     "data": {
      "text/plain": [
       "array([[1, 3],\n",
       "       [2, 4]])"
      ]
     },
     "execution_count": 48,
     "metadata": {},
     "output_type": "execute_result"
    }
   ],
   "source": [
    "TofA = A.T\n",
    "TofA"
   ]
  },
  {
   "cell_type": "code",
   "execution_count": 49,
   "id": "a4e07f3b-ed4e-44d5-8a2d-da0fd559cbe2",
   "metadata": {},
   "outputs": [
    {
     "data": {
      "text/plain": [
       "array([[6, 8],\n",
       "       [7, 9]])"
      ]
     },
     "execution_count": 49,
     "metadata": {},
     "output_type": "execute_result"
    }
   ],
   "source": [
    "TofB = B.T\n",
    "TofB"
   ]
  },
  {
   "cell_type": "markdown",
   "id": "a2af572b-1b4f-4570-b9b3-3b8695b999cb",
   "metadata": {},
   "source": [
    "## 12. Create a 3x3 array and a 1D array with 3 elements. Add the 1D array to the 2D array. Explain how broadcasting works in this operation."
   ]
  },
  {
   "cell_type": "code",
   "execution_count": 50,
   "id": "5d5e03d7-f3f0-484c-ad41-0306f9a6d539",
   "metadata": {},
   "outputs": [
    {
     "data": {
      "text/plain": [
       "array([[1, 2, 3],\n",
       "       [4, 5, 6],\n",
       "       [7, 8, 9]])"
      ]
     },
     "execution_count": 50,
     "metadata": {},
     "output_type": "execute_result"
    }
   ],
   "source": [
    "matrix = np.arange(1,10).reshape(3,3)\n",
    "matrix"
   ]
  },
  {
   "cell_type": "code",
   "execution_count": 51,
   "id": "01d071af-2005-481c-a253-06ed41577f9e",
   "metadata": {},
   "outputs": [
    {
     "data": {
      "text/plain": [
       "array([1, 2, 3])"
      ]
     },
     "execution_count": 51,
     "metadata": {},
     "output_type": "execute_result"
    }
   ],
   "source": [
    "arr = np.array([1,2,3])\n",
    "arr"
   ]
  },
  {
   "cell_type": "code",
   "execution_count": 53,
   "id": "931434cd-8710-4a43-bb40-93214d294672",
   "metadata": {},
   "outputs": [
    {
     "data": {
      "text/plain": [
       "array([[ 2,  4,  6],\n",
       "       [ 5,  7,  9],\n",
       "       [ 8, 10, 12]])"
      ]
     },
     "execution_count": 53,
     "metadata": {},
     "output_type": "execute_result"
    }
   ],
   "source": [
    "add = arr + matrix\n",
    "add\n",
    "\n",
    "# In this Case, the 1D array will add in each row of the 2D array in each element and that's how the Broadcasting work in this case"
   ]
  },
  {
   "cell_type": "markdown",
   "id": "add19500-83a4-43f4-99ce-e6cfa01d87f5",
   "metadata": {},
   "source": [
    "# 13. Create a 4x4 array of random integers. Find the maximum, minimum, and mean of the entire array."
   ]
  },
  {
   "cell_type": "code",
   "execution_count": 54,
   "id": "cfaa85e5-8879-493a-aecf-8cba25beca3a",
   "metadata": {},
   "outputs": [
    {
     "data": {
      "text/plain": [
       "array([[38, 44, 35, 18],\n",
       "       [25, 35, 25, 18],\n",
       "       [40, 24, 46, 35],\n",
       "       [47, 25,  4,  1]], dtype=int32)"
      ]
     },
     "execution_count": 54,
     "metadata": {},
     "output_type": "execute_result"
    }
   ],
   "source": [
    "arr = np.random.randint(1,50,16).reshape(4,4)\n",
    "arr"
   ]
  },
  {
   "cell_type": "code",
   "execution_count": 55,
   "id": "7b0c7f58-1516-4fa2-89f1-04dea89e5b8f",
   "metadata": {},
   "outputs": [
    {
     "data": {
      "text/plain": [
       "np.int32(1)"
      ]
     },
     "execution_count": 55,
     "metadata": {},
     "output_type": "execute_result"
    }
   ],
   "source": [
    "arr.min()"
   ]
  },
  {
   "cell_type": "code",
   "execution_count": 56,
   "id": "fb76b352-8d65-495b-8c7b-08cd56943337",
   "metadata": {},
   "outputs": [
    {
     "data": {
      "text/plain": [
       "np.int32(47)"
      ]
     },
     "execution_count": 56,
     "metadata": {},
     "output_type": "execute_result"
    }
   ],
   "source": [
    "arr.max()"
   ]
  },
  {
   "cell_type": "code",
   "execution_count": 57,
   "id": "8c2e8a59-47d9-4176-890d-276006fdf807",
   "metadata": {},
   "outputs": [
    {
     "data": {
      "text/plain": [
       "np.float64(28.75)"
      ]
     },
     "execution_count": 57,
     "metadata": {},
     "output_type": "execute_result"
    }
   ],
   "source": [
    "arr.mean()"
   ]
  },
  {
   "cell_type": "markdown",
   "id": "483518f8-5f0b-4d51-a5c4-6f24a9519f40",
   "metadata": {},
   "source": [
    "# 14. Find the row-wise and column-wise sums."
   ]
  },
  {
   "cell_type": "code",
   "execution_count": 58,
   "id": "941f85b5-f854-452c-8bd6-8d5dfd4a31a9",
   "metadata": {},
   "outputs": [
    {
     "data": {
      "text/plain": [
       "array([[38, 44, 35, 18],\n",
       "       [25, 35, 25, 18],\n",
       "       [40, 24, 46, 35],\n",
       "       [47, 25,  4,  1]], dtype=int32)"
      ]
     },
     "execution_count": 58,
     "metadata": {},
     "output_type": "execute_result"
    }
   ],
   "source": [
    "arr"
   ]
  },
  {
   "cell_type": "code",
   "execution_count": 61,
   "id": "69235c60-242a-419c-89e2-a750ead774c7",
   "metadata": {},
   "outputs": [
    {
     "data": {
      "text/plain": [
       "array([135, 103, 145,  77])"
      ]
     },
     "execution_count": 61,
     "metadata": {},
     "output_type": "execute_result"
    }
   ],
   "source": [
    "arr.sum(axis=1)"
   ]
  },
  {
   "cell_type": "code",
   "execution_count": 62,
   "id": "8f8b1f3f-3663-497a-a021-4771af55cf47",
   "metadata": {},
   "outputs": [
    {
     "data": {
      "text/plain": [
       "array([150, 128, 110,  72])"
      ]
     },
     "execution_count": 62,
     "metadata": {},
     "output_type": "execute_result"
    }
   ],
   "source": [
    "arr.sum(axis=0)"
   ]
  },
  {
   "cell_type": "markdown",
   "id": "a291cdc0-832b-4685-be5c-a42cc5b030fb",
   "metadata": {},
   "source": [
    "# 15. Generate an array of 10 random integers between 1 and 50."
   ]
  },
  {
   "cell_type": "code",
   "execution_count": 63,
   "id": "b8e99a3c-4e7f-429c-b9f8-96cd196796e8",
   "metadata": {},
   "outputs": [
    {
     "data": {
      "text/plain": [
       "array([12, 17, 12, 14,  6, 28, 35, 14, 33, 40], dtype=int32)"
      ]
     },
     "execution_count": 63,
     "metadata": {},
     "output_type": "execute_result"
    }
   ],
   "source": [
    "arr = np.random.randint(1,50,10)\n",
    "arr"
   ]
  },
  {
   "cell_type": "markdown",
   "id": "622a9e42-098e-4be0-a09f-f1584c8e0906",
   "metadata": {},
   "source": [
    "# 16. Generate a 5x5 matrix of random floats between 0 and 1."
   ]
  },
  {
   "cell_type": "code",
   "execution_count": 71,
   "id": "ce03968e-f98a-4846-8865-9aa88fa83603",
   "metadata": {},
   "outputs": [
    {
     "data": {
      "text/plain": [
       "array([[0.87633859, 0.09066176, 0.25530425, 0.47699223, 0.14535161],\n",
       "       [0.40882318, 0.11236479, 0.2668771 , 0.65465826, 0.62294195],\n",
       "       [0.43826391, 0.95032843, 0.33257505, 0.24044985, 0.63041417],\n",
       "       [0.18747612, 0.84815747, 0.32363066, 0.72857478, 0.52487893],\n",
       "       [0.65255785, 0.29464878, 0.36550817, 0.33615969, 0.40938992]])"
      ]
     },
     "execution_count": 71,
     "metadata": {},
     "output_type": "execute_result"
    }
   ],
   "source": [
    "zero = np.random.random(25).reshape(5,5)\n",
    "zero"
   ]
  },
  {
   "cell_type": "code",
   "execution_count": null,
   "id": "842f1a90-bb26-4b4e-b729-dfad24e0422f",
   "metadata": {},
   "outputs": [],
   "source": []
  }
 ],
 "metadata": {
  "kernelspec": {
   "display_name": "Python 3 (ipykernel)",
   "language": "python",
   "name": "python3"
  },
  "language_info": {
   "codemirror_mode": {
    "name": "ipython",
    "version": 3
   },
   "file_extension": ".py",
   "mimetype": "text/x-python",
   "name": "python",
   "nbconvert_exporter": "python",
   "pygments_lexer": "ipython3",
   "version": "3.13.8"
  }
 },
 "nbformat": 4,
 "nbformat_minor": 5
}
